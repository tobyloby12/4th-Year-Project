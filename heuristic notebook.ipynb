{
 "cells": [
  {
   "cell_type": "code",
   "execution_count": 1,
   "metadata": {},
   "outputs": [
    {
     "name": "stdout",
     "output_type": "stream",
     "text": [
      "pygame 2.0.3 (SDL 2.0.16, Python 3.9.10)\n",
      "Hello from the pygame community. https://www.pygame.org/contribute.html\n"
     ]
    }
   ],
   "source": [
    "import gym\n",
    "from time import sleep\n",
    "from IPython.display import clear_output, display\n",
    "import matplotlib.pyplot as plt\n",
    "import importlib\n",
    "from stable_baselines3.common.env_checker import check_env\n",
    "\n",
    "import optical_network_game.game_gym\n",
    "importlib.reload(optical_network_game.game_gym)\n",
    "from optical_network_game.game_gym import *\n",
    "\n",
    "from optical_network_game.requests import *\n",
    "from optical_network_game.topology_generation import *\n",
    "\n",
    "import optical_network_game.heuristic\n",
    "importlib.reload(optical_network_game.heuristic)\n",
    "from optical_network_game.heuristic import *"
   ]
  },
  {
   "cell_type": "code",
   "execution_count": 2,
   "metadata": {},
   "outputs": [
    {
     "name": "stdout",
     "output_type": "stream",
     "text": [
      "VSNL Topology Selected\n",
      "Traffic load is: 15.0\n"
     ]
    }
   ],
   "source": [
    "nodeList, linkList = createPresetTopology(\"VSNL\", 5)\n",
    "requestList = generateRequests(nodeList, 20, 2, 30)\n",
    "\n",
    "user = User()\n",
    "env = game_gym(nodeList, linkList, requestList, user, dynamic=True)\n",
    "\n",
    "eveon = env\n",
    "check_env(eveon)\n",
    "heuristic = Heuristic(linkList)"
   ]
  },
  {
   "cell_type": "code",
   "execution_count": 3,
   "metadata": {},
   "outputs": [
    {
     "name": "stdout",
     "output_type": "stream",
     "text": [
      "lack contiguous\n",
      "lack contiguous\n",
      "lack continuous\n",
      "No more requests.\n",
      "Total reward for this episode is -5.00000000000469\n",
      "{'bp': 0.15000000000000002, 'avg_length': 1.411764705882353, 'blocked_continuous': 0.3333333333333333, 'blocked_contiguous': 0.6666666666666666}\n",
      "lack contiguous\n",
      "lack contiguous\n",
      "lack contiguous\n",
      "No more requests.\n",
      "Total reward for this episode is -985.0000000000023\n",
      "{'bp': 0.15000000000000002, 'avg_length': 1.4705882352941178, 'blocked_continuous': 0.0, 'blocked_contiguous': 1.0}\n",
      "lack contiguous\n",
      "lack contiguous\n",
      "lack contiguous\n",
      "No more requests.\n",
      "Total reward for this episode is -6.000000000006622\n",
      "{'bp': 0.15000000000000002, 'avg_length': 1.411764705882353, 'blocked_continuous': 0.0, 'blocked_contiguous': 1.0}\n",
      "lack contiguous\n",
      "lack contiguous\n",
      "No more requests.\n",
      "Total reward for this episode is 12357.999999999989\n",
      "{'bp': 0.09999999999999998, 'avg_length': 1.4444444444444444, 'blocked_continuous': 0.0, 'blocked_contiguous': 1.0}\n",
      "lack contiguous\n",
      "lack contiguous\n",
      "No more requests.\n",
      "Total reward for this episode is 12350.999999999996\n",
      "{'bp': 0.09999999999999998, 'avg_length': 1.4444444444444444, 'blocked_continuous': 0.0, 'blocked_contiguous': 1.0}\n",
      "lack contiguous\n",
      "lack contiguous\n",
      "lack contiguous\n",
      "No more requests.\n",
      "Total reward for this episode is -1007.9999999999994\n",
      "{'bp': 0.15000000000000002, 'avg_length': 1.4705882352941178, 'blocked_continuous': 0.0, 'blocked_contiguous': 1.0}\n",
      "lack contiguous\n",
      "lack contiguous\n",
      "No more requests.\n",
      "Total reward for this episode is 13406.999999999996\n",
      "{'bp': 0.09999999999999998, 'avg_length': 1.3888888888888888, 'blocked_continuous': 0.0, 'blocked_contiguous': 1.0}\n",
      "lack contiguous\n",
      "lack contiguous\n",
      "lack contiguous\n",
      "No more requests.\n",
      "Total reward for this episode is -986.0\n",
      "{'bp': 0.15000000000000002, 'avg_length': 1.4705882352941178, 'blocked_continuous': 0.0, 'blocked_contiguous': 1.0}\n",
      "lack contiguous\n",
      "lack contiguous\n",
      "lack contiguous\n",
      "No more requests.\n",
      "Total reward for this episode is -900.0000000000047\n",
      "{'bp': 0.15000000000000002, 'avg_length': 1.4705882352941178, 'blocked_continuous': 0.0, 'blocked_contiguous': 1.0}\n"
     ]
    },
    {
     "ename": "KeyboardInterrupt",
     "evalue": "",
     "output_type": "error",
     "traceback": [
      "\u001b[1;31m---------------------------------------------------------------------------\u001b[0m",
      "\u001b[1;31mKeyboardInterrupt\u001b[0m                         Traceback (most recent call last)",
      "Input \u001b[1;32mIn [3]\u001b[0m, in \u001b[0;36m<module>\u001b[1;34m\u001b[0m\n\u001b[0;32m      9\u001b[0m     env\u001b[39m.\u001b[39mreset()\n\u001b[0;32m     10\u001b[0m     heuristic \u001b[39m=\u001b[39m Heuristic(linkList)\n\u001b[1;32m---> 12\u001b[0m env\u001b[39m.\u001b[39;49mrender()\n",
      "File \u001b[1;32mc:\\users\\tanpi\\documents\\github\\4th-year-project\\src\\optical_network_game\\game_gym.py:396\u001b[0m, in \u001b[0;36mgame_gym.render\u001b[1;34m(self)\u001b[0m\n\u001b[0;32m    <a href='file:///c%3A/users/tanpi/documents/github/4th-year-project/src/optical_network_game/game_gym.py?line=392'>393</a>\u001b[0m \u001b[39mself\u001b[39m\u001b[39m.\u001b[39mdrawSpectrumScreen()\n\u001b[0;32m    <a href='file:///c%3A/users/tanpi/documents/github/4th-year-project/src/optical_network_game/game_gym.py?line=394'>395</a>\u001b[0m \u001b[39m# Update portions of the screen for software displays (in this case the entire screen is updated)      \u001b[39;00m\n\u001b[1;32m--> <a href='file:///c%3A/users/tanpi/documents/github/4th-year-project/src/optical_network_game/game_gym.py?line=395'>396</a>\u001b[0m pygame\u001b[39m.\u001b[39;49mdisplay\u001b[39m.\u001b[39;49mupdate()\n\u001b[0;32m    <a href='file:///c%3A/users/tanpi/documents/github/4th-year-project/src/optical_network_game/game_gym.py?line=397'>398</a>\u001b[0m \u001b[39m# timer2 decreases per frame to allow smooth decrease of timer bar width\u001b[39;00m\n\u001b[0;32m    <a href='file:///c%3A/users/tanpi/documents/github/4th-year-project/src/optical_network_game/game_gym.py?line=398'>399</a>\u001b[0m \u001b[39mself\u001b[39m\u001b[39m.\u001b[39mtimer2 \u001b[39m-\u001b[39m\u001b[39m=\u001b[39m \u001b[39m1\u001b[39m\u001b[39m/\u001b[39m\u001b[39mself\u001b[39m\u001b[39m.\u001b[39mFPS\n",
      "\u001b[1;31mKeyboardInterrupt\u001b[0m: "
     ]
    }
   ],
   "source": [
    "import random\n",
    "obs = env.reset()\n",
    "\n",
    "while True :\n",
    "    action = heuristic.next_action(obs)\n",
    "    obs, rewards, dones, info = env.step(action)\n",
    "    if dones == True:\n",
    "        print(info)\n",
    "        env.reset()\n",
    "        heuristic = Heuristic(linkList)\n",
    "\n",
    "    env.render()"
   ]
  },
  {
   "cell_type": "code",
   "execution_count": null,
   "metadata": {},
   "outputs": [],
   "source": []
  }
 ],
 "metadata": {
  "interpreter": {
   "hash": "f8add52c80a42ddbef45c4d21014ff3ae3eedc1d6a4d7fa6bddf8f1544eead96"
  },
  "kernelspec": {
   "display_name": "Python 3.9.7 ('project')",
   "language": "python",
   "name": "python3"
  },
  "language_info": {
   "codemirror_mode": {
    "name": "ipython",
    "version": 3
   },
   "file_extension": ".py",
   "mimetype": "text/x-python",
   "name": "python",
   "nbconvert_exporter": "python",
   "pygments_lexer": "ipython3",
   "version": "3.9.10"
  },
  "orig_nbformat": 4
 },
 "nbformat": 4,
 "nbformat_minor": 2
}
