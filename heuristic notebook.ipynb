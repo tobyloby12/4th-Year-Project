{
 "cells": [
  {
   "cell_type": "code",
   "execution_count": 4,
   "metadata": {},
   "outputs": [],
   "source": [
    "import gym\n",
    "from time import sleep\n",
    "from IPython.display import clear_output, display\n",
    "import matplotlib.pyplot as plt\n",
    "import importlib\n",
    "from stable_baselines3.common.env_checker import check_env\n",
    "\n",
    "import optical_network_game.game_gym\n",
    "importlib.reload(optical_network_game.game_gym)\n",
    "from optical_network_game.game_gym import *\n",
    "\n",
    "from optical_network_game.requests import *\n",
    "from optical_network_game.topology_generation import *\n",
    "\n",
    "import optical_network_game.heuristic\n",
    "importlib.reload(optical_network_game.heuristic)\n",
    "from optical_network_game.heuristic import *"
   ]
  },
  {
   "cell_type": "code",
   "execution_count": 5,
   "metadata": {},
   "outputs": [
    {
     "name": "stdout",
     "output_type": "stream",
     "text": [
      "VSNL Topology Selected\n",
      "Traffic load is: 20.0\n"
     ]
    }
   ],
   "source": [
    "nodeList, linkList = createPresetTopology(\"VSNL\", 5)\n",
    "requestList = generateRequests(nodeList, 20, 2, 40)\n",
    "\n",
    "user = User()\n",
    "env = game_gym(nodeList, linkList, requestList, user, dynamic=True)\n",
    "eveon = env\n",
    "check_env(eveon)\n",
    "heuristic = Heuristic(linkList)"
   ]
  },
  {
   "cell_type": "code",
   "execution_count": 7,
   "metadata": {},
   "outputs": [
    {
     "ename": "SystemExit",
     "evalue": "",
     "output_type": "error",
     "traceback": [
      "An exception has occurred, use %tb to see the full traceback.\n",
      "\u001b[1;31mSystemExit\u001b[0m\n"
     ]
    }
   ],
   "source": [
    "import random\n",
    "obs = env.reset()\n",
    "\n",
    "while True :\n",
    "    action = heuristic.next_action(obs)\n",
    "    # action=4\n",
    "    obs, rewards, dones, info = env.step(action)\n",
    "    if dones == True:\n",
    "        print(info)\n",
    "        env.reset()\n",
    "        heuristic = Heuristic(linkList)\n",
    "\n",
    "    env.render()"
   ]
  }
 ],
 "metadata": {
  "interpreter": {
   "hash": "f8add52c80a42ddbef45c4d21014ff3ae3eedc1d6a4d7fa6bddf8f1544eead96"
  },
  "kernelspec": {
   "display_name": "Python 3.9.7 ('project')",
   "language": "python",
   "name": "python3"
  },
  "language_info": {
   "codemirror_mode": {
    "name": "ipython",
    "version": 3
   },
   "file_extension": ".py",
   "mimetype": "text/x-python",
   "name": "python",
   "nbconvert_exporter": "python",
   "pygments_lexer": "ipython3",
   "version": "3.9.7"
  },
  "orig_nbformat": 4
 },
 "nbformat": 4,
 "nbformat_minor": 2
}
