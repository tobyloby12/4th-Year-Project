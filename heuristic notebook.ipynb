{
 "cells": [
  {
   "cell_type": "code",
   "execution_count": 4,
   "metadata": {},
   "outputs": [],
   "source": [
    "import gym\n",
    "from time import sleep\n",
    "from IPython.display import clear_output, display\n",
    "import matplotlib.pyplot as plt\n",
    "import importlib\n",
    "import optical_network_game.game_gym\n",
    "importlib.reload(optical_network_game.game_gym)\n",
    "from optical_network_game.game_gym import *\n",
    "import optical_network_game.heuristic\n",
    "importlib.reload(optical_network_game.heuristic)\n",
    "from optical_network_game.heuristic import *"
   ]
  },
  {
   "cell_type": "code",
   "execution_count": 5,
   "metadata": {},
   "outputs": [],
   "source": [
    "nodeList, linkList = createTestTopology()\n",
    "requestList = generateRequests(nodeList, 30)\n",
    "\n",
    "user = User()\n",
    "env = game_gym(nodeList, linkList, requestList, user)\n",
    "eveon = env\n",
    "heuristic = Heuristic()"
   ]
  },
  {
   "cell_type": "code",
   "execution_count": 6,
   "metadata": {},
   "outputs": [
    {
     "name": "stdout",
     "output_type": "stream",
     "text": [
      "Time is up.\n",
      "Total reward for this episode is 50159.99999999999\n",
      "Time is up.\n",
      "Total reward for this episode is 50099.999999999985\n",
      "Time is up.\n",
      "Total reward for this episode is 50159.99999999999\n",
      "Time is up.\n",
      "Total reward for this episode is 49159.99999999999\n",
      "Time is up.\n",
      "Total reward for this episode is 50099.999999999985\n",
      "Time is up.\n",
      "Total reward for this episode is 50159.99999999999\n",
      "Time is up.\n",
      "Total reward for this episode is 50099.999999999985\n",
      "Time is up.\n",
      "Total reward for this episode is 48099.999999999985\n",
      "Time is up.\n",
      "Total reward for this episode is 49099.999999999985\n",
      "Time is up.\n",
      "Total reward for this episode is 51039.999999999985\n",
      "Time is up.\n",
      "Total reward for this episode is 50159.99999999999\n",
      "Time is up.\n",
      "Total reward for this episode is 50159.99999999999\n",
      "Time is up.\n",
      "Total reward for this episode is 50039.999999999985\n",
      "Time is up.\n",
      "Total reward for this episode is 50099.999999999985\n",
      "Time is up.\n",
      "Total reward for this episode is 50099.999999999985\n",
      "Time is up.\n",
      "Total reward for this episode is 49099.999999999985\n",
      "Time is up.\n",
      "Total reward for this episode is 50159.99999999999\n",
      "Time is up.\n",
      "Total reward for this episode is 50099.999999999985\n",
      "Time is up.\n",
      "Total reward for this episode is 50099.999999999985\n",
      "Time is up.\n",
      "Total reward for this episode is 50099.999999999985\n",
      "Time is up.\n",
      "Total reward for this episode is 50099.999999999985\n",
      "Time is up.\n",
      "Total reward for this episode is 52099.999999999985\n",
      "Time is up.\n",
      "Total reward for this episode is 50099.999999999985\n",
      "Time is up.\n",
      "Total reward for this episode is 49099.999999999985\n",
      "Time is up.\n",
      "Total reward for this episode is 50099.999999999985\n",
      "Time is up.\n",
      "Total reward for this episode is 50159.99999999999\n",
      "Time is up.\n",
      "Total reward for this episode is 50099.999999999985\n",
      "Time is up.\n",
      "Total reward for this episode is 50099.999999999985\n",
      "Time is up.\n",
      "Total reward for this episode is 50159.99999999999\n",
      "Time is up.\n",
      "Total reward for this episode is 50099.999999999985\n",
      "Time is up.\n",
      "Total reward for this episode is 50099.999999999985\n",
      "Time is up.\n",
      "Total reward for this episode is 50099.999999999985\n",
      "Time is up.\n",
      "Total reward for this episode is 50099.999999999985\n"
     ]
    },
    {
     "ename": "SystemExit",
     "evalue": "",
     "output_type": "error",
     "traceback": [
      "An exception has occurred, use %tb to see the full traceback.\n",
      "\u001b[1;31mSystemExit\u001b[0m\n"
     ]
    },
    {
     "name": "stderr",
     "output_type": "stream",
     "text": [
      "C:\\Users\\tkate\\miniconda3\\envs\\project\\lib\\site-packages\\IPython\\core\\interactiveshell.py:3259: UserWarning: To exit: use 'exit', 'quit', or Ctrl-D.\n",
      "  warn(\"To exit: use 'exit', 'quit', or Ctrl-D.\", stacklevel=1)\n"
     ]
    }
   ],
   "source": [
    "obs = env.reset()\n",
    "\n",
    "while True :\n",
    "    action = heuristic.next_action(obs)\n",
    "    obs, rewards, dones, info = env.step(action)\n",
    "    # print(action)\n",
    "    if dones == True:\n",
    "        env.reset()\n",
    "        heuristic = Heuristic()\n",
    "\n",
    "    env.render()"
   ]
  }
 ],
 "metadata": {
  "interpreter": {
   "hash": "f8add52c80a42ddbef45c4d21014ff3ae3eedc1d6a4d7fa6bddf8f1544eead96"
  },
  "kernelspec": {
   "display_name": "Python 3.9.7 ('project')",
   "language": "python",
   "name": "python3"
  },
  "language_info": {
   "codemirror_mode": {
    "name": "ipython",
    "version": 3
   },
   "file_extension": ".py",
   "mimetype": "text/x-python",
   "name": "python",
   "nbconvert_exporter": "python",
   "pygments_lexer": "ipython3",
   "version": "3.9.7"
  },
  "orig_nbformat": 4
 },
 "nbformat": 4,
 "nbformat_minor": 2
}
