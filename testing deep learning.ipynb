{
 "cells": [
  {
   "cell_type": "code",
   "execution_count": 1,
   "metadata": {},
   "outputs": [
    {
     "name": "stdout",
     "output_type": "stream",
     "text": [
      "pygame 2.1.2 (SDL 2.0.18, Python 3.9.7)\n",
      "Hello from the pygame community. https://www.pygame.org/contribute.html\n"
     ]
    }
   ],
   "source": [
    "import gym\n",
    "from time import sleep\n",
    "from IPython.display import clear_output, display\n",
    "import matplotlib.pyplot as plt\n",
    "import importlib\n",
    "import optical_network_game.game_gym\n",
    "importlib.reload(optical_network_game.game_gym)\n",
    "from optical_network_game.game_gym import *"
   ]
  },
  {
   "cell_type": "code",
   "execution_count": 2,
   "metadata": {},
   "outputs": [
    {
     "name": "stdout",
     "output_type": "stream",
     "text": [
      "Using cuda device\n",
      "Wrapping the env with a `Monitor` wrapper\n",
      "Wrapping the env in a DummyVecEnv.\n",
      "Wrapping the env in a VecTransposeImage.\n"
     ]
    }
   ],
   "source": [
    "# create model\n",
    "\n",
    "nodeList, linkList = createTestTopology()\n",
    "requestList = generateRequests(nodeList, 30)\n",
    "\n",
    "user = User()\n",
    "eveon = game_gym(nodeList, linkList, requestList, user)\n",
    "\n",
    "# check_env(eveon, warn=True)\n",
    "model = DQN('MlpPolicy', eveon, verbose=1, buffer_size=10000, device='cuda', learning_starts=10000, exploration_fraction=0.9)"
   ]
  },
  {
   "cell_type": "code",
   "execution_count": 4,
   "metadata": {},
   "outputs": [
    {
     "name": "stdout",
     "output_type": "stream",
     "text": [
      "(128, 128, 3)\n",
      "-7797\n",
      "(128, 128, 3)\n",
      "-6567\n",
      "(128, 128, 3)\n",
      "-5164\n",
      "(128, 128, 3)\n",
      "-5435\n",
      "(128, 128, 3)\n",
      "----------------------------------\n",
      "| rollout/            |          |\n",
      "|    ep_len_mean      | 5.15e+03 |\n",
      "|    ep_rew_mean      | 9.68e+04 |\n",
      "|    exploration_rate | 0.891    |\n",
      "| time/               |          |\n",
      "|    episodes         | 4        |\n",
      "|    fps              | 109      |\n",
      "|    time_elapsed     | 188      |\n",
      "|    total_timesteps  | 20599    |\n",
      "| train/              |          |\n",
      "|    learning_rate    | 0.0001   |\n",
      "|    loss             | 12.6     |\n",
      "|    n_updates        | 2649     |\n",
      "----------------------------------\n",
      "-3767\n",
      "(128, 128, 3)\n",
      "-4612\n",
      "(128, 128, 3)\n"
     ]
    }
   ],
   "source": [
    "# train\n",
    "model.learn(total_timesteps=200000)\n",
    "model.save(\"DQNEveon5\")"
   ]
  },
  {
   "cell_type": "code",
   "execution_count": 5,
   "metadata": {},
   "outputs": [],
   "source": [
    "import torch\n",
    "torch.cuda.empty_cache()"
   ]
  },
  {
   "cell_type": "code",
   "execution_count": 5,
   "metadata": {},
   "outputs": [
    {
     "name": "stdout",
     "output_type": "stream",
     "text": [
      "Wrapping the env with a `Monitor` wrapper\n",
      "Wrapping the env in a DummyVecEnv.\n",
      "Wrapping the env in a VecTransposeImage.\n"
     ]
    },
    {
     "ename": "MemoryError",
     "evalue": "Unable to allocate 4.58 GiB for an array with shape (25000, 1, 3, 256, 256) and data type uint8",
     "output_type": "error",
     "traceback": [
      "\u001b[1;31m---------------------------------------------------------------------------\u001b[0m",
      "\u001b[1;31mMemoryError\u001b[0m                               Traceback (most recent call last)",
      "\u001b[1;32mc:\\Users\\tkate\\Desktop\\Year 4\\project\\Game part\\4th-Year-Project\\testing deep learning.ipynb Cell 5'\u001b[0m in \u001b[0;36m<module>\u001b[1;34m\u001b[0m\n\u001b[0;32m      <a href='vscode-notebook-cell:/c%3A/Users/tkate/Desktop/Year%204/project/Game%20part/4th-Year-Project/testing%20deep%20learning.ipynb#ch0000004?line=0'>1</a>\u001b[0m \u001b[39m# test\u001b[39;00m\n\u001b[1;32m----> <a href='vscode-notebook-cell:/c%3A/Users/tkate/Desktop/Year%204/project/Game%20part/4th-Year-Project/testing%20deep%20learning.ipynb#ch0000004?line=2'>3</a>\u001b[0m model \u001b[39m=\u001b[39m DQN\u001b[39m.\u001b[39;49mload(\u001b[39m\"\u001b[39;49m\u001b[39mDQNEveon6\u001b[39;49m\u001b[39m\"\u001b[39;49m, env\u001b[39m=\u001b[39;49meveon, device\u001b[39m=\u001b[39;49m\u001b[39m'\u001b[39;49m\u001b[39mcpu\u001b[39;49m\u001b[39m'\u001b[39;49m)\n\u001b[0;32m      <a href='vscode-notebook-cell:/c%3A/Users/tkate/Desktop/Year%204/project/Game%20part/4th-Year-Project/testing%20deep%20learning.ipynb#ch0000004?line=4'>5</a>\u001b[0m obs \u001b[39m=\u001b[39m eveon\u001b[39m.\u001b[39mreset()\n\u001b[0;32m      <a href='vscode-notebook-cell:/c%3A/Users/tkate/Desktop/Year%204/project/Game%20part/4th-Year-Project/testing%20deep%20learning.ipynb#ch0000004?line=5'>6</a>\u001b[0m \u001b[39mwhile\u001b[39;00m \u001b[39mTrue\u001b[39;00m :\n\u001b[0;32m      <a href='vscode-notebook-cell:/c%3A/Users/tkate/Desktop/Year%204/project/Game%20part/4th-Year-Project/testing%20deep%20learning.ipynb#ch0000004?line=6'>7</a>\u001b[0m     \u001b[39m# clear_output(wait=True)\u001b[39;00m\n",
      "File \u001b[1;32m~\\miniconda3\\envs\\project\\lib\\site-packages\\stable_baselines3\\common\\base_class.py:730\u001b[0m, in \u001b[0;36mBaseAlgorithm.load\u001b[1;34m(cls, path, env, device, custom_objects, print_system_info, force_reset, **kwargs)\u001b[0m\n\u001b[0;32m    <a href='file:///~/miniconda3/envs/project/lib/site-packages/stable_baselines3/common/base_class.py?line=727'>728</a>\u001b[0m model\u001b[39m.\u001b[39m\u001b[39m__dict__\u001b[39m\u001b[39m.\u001b[39mupdate(data)\n\u001b[0;32m    <a href='file:///~/miniconda3/envs/project/lib/site-packages/stable_baselines3/common/base_class.py?line=728'>729</a>\u001b[0m model\u001b[39m.\u001b[39m\u001b[39m__dict__\u001b[39m\u001b[39m.\u001b[39mupdate(kwargs)\n\u001b[1;32m--> <a href='file:///~/miniconda3/envs/project/lib/site-packages/stable_baselines3/common/base_class.py?line=729'>730</a>\u001b[0m model\u001b[39m.\u001b[39;49m_setup_model()\n\u001b[0;32m    <a href='file:///~/miniconda3/envs/project/lib/site-packages/stable_baselines3/common/base_class.py?line=731'>732</a>\u001b[0m \u001b[39m# put state_dicts back in place\u001b[39;00m\n\u001b[0;32m    <a href='file:///~/miniconda3/envs/project/lib/site-packages/stable_baselines3/common/base_class.py?line=732'>733</a>\u001b[0m model\u001b[39m.\u001b[39mset_parameters(params, exact_match\u001b[39m=\u001b[39m\u001b[39mTrue\u001b[39;00m, device\u001b[39m=\u001b[39mdevice)\n",
      "File \u001b[1;32m~\\miniconda3\\envs\\project\\lib\\site-packages\\stable_baselines3\\dqn\\dqn.py:135\u001b[0m, in \u001b[0;36mDQN._setup_model\u001b[1;34m(self)\u001b[0m\n\u001b[0;32m    <a href='file:///~/miniconda3/envs/project/lib/site-packages/stable_baselines3/dqn/dqn.py?line=133'>134</a>\u001b[0m \u001b[39mdef\u001b[39;00m \u001b[39m_setup_model\u001b[39m(\u001b[39mself\u001b[39m) \u001b[39m-\u001b[39m\u001b[39m>\u001b[39m \u001b[39mNone\u001b[39;00m:\n\u001b[1;32m--> <a href='file:///~/miniconda3/envs/project/lib/site-packages/stable_baselines3/dqn/dqn.py?line=134'>135</a>\u001b[0m     \u001b[39msuper\u001b[39;49m(DQN, \u001b[39mself\u001b[39;49m)\u001b[39m.\u001b[39;49m_setup_model()\n\u001b[0;32m    <a href='file:///~/miniconda3/envs/project/lib/site-packages/stable_baselines3/dqn/dqn.py?line=135'>136</a>\u001b[0m     \u001b[39mself\u001b[39m\u001b[39m.\u001b[39m_create_aliases()\n\u001b[0;32m    <a href='file:///~/miniconda3/envs/project/lib/site-packages/stable_baselines3/dqn/dqn.py?line=136'>137</a>\u001b[0m     \u001b[39mself\u001b[39m\u001b[39m.\u001b[39mexploration_schedule \u001b[39m=\u001b[39m get_linear_fn(\n\u001b[0;32m    <a href='file:///~/miniconda3/envs/project/lib/site-packages/stable_baselines3/dqn/dqn.py?line=137'>138</a>\u001b[0m         \u001b[39mself\u001b[39m\u001b[39m.\u001b[39mexploration_initial_eps,\n\u001b[0;32m    <a href='file:///~/miniconda3/envs/project/lib/site-packages/stable_baselines3/dqn/dqn.py?line=138'>139</a>\u001b[0m         \u001b[39mself\u001b[39m\u001b[39m.\u001b[39mexploration_final_eps,\n\u001b[0;32m    <a href='file:///~/miniconda3/envs/project/lib/site-packages/stable_baselines3/dqn/dqn.py?line=139'>140</a>\u001b[0m         \u001b[39mself\u001b[39m\u001b[39m.\u001b[39mexploration_fraction,\n\u001b[0;32m    <a href='file:///~/miniconda3/envs/project/lib/site-packages/stable_baselines3/dqn/dqn.py?line=140'>141</a>\u001b[0m     )\n",
      "File \u001b[1;32m~\\miniconda3\\envs\\project\\lib\\site-packages\\stable_baselines3\\common\\off_policy_algorithm.py:213\u001b[0m, in \u001b[0;36mOffPolicyAlgorithm._setup_model\u001b[1;34m(self)\u001b[0m\n\u001b[0;32m    <a href='file:///~/miniconda3/envs/project/lib/site-packages/stable_baselines3/common/off_policy_algorithm.py?line=203'>204</a>\u001b[0m     \u001b[39mself\u001b[39m\u001b[39m.\u001b[39mreplay_buffer \u001b[39m=\u001b[39m HerReplayBuffer(\n\u001b[0;32m    <a href='file:///~/miniconda3/envs/project/lib/site-packages/stable_baselines3/common/off_policy_algorithm.py?line=204'>205</a>\u001b[0m         \u001b[39mself\u001b[39m\u001b[39m.\u001b[39menv,\n\u001b[0;32m    <a href='file:///~/miniconda3/envs/project/lib/site-packages/stable_baselines3/common/off_policy_algorithm.py?line=205'>206</a>\u001b[0m         \u001b[39mself\u001b[39m\u001b[39m.\u001b[39mbuffer_size,\n\u001b[1;32m   (...)\u001b[0m\n\u001b[0;32m    <a href='file:///~/miniconda3/envs/project/lib/site-packages/stable_baselines3/common/off_policy_algorithm.py?line=208'>209</a>\u001b[0m         \u001b[39m*\u001b[39m\u001b[39m*\u001b[39m\u001b[39mself\u001b[39m\u001b[39m.\u001b[39mreplay_buffer_kwargs,\n\u001b[0;32m    <a href='file:///~/miniconda3/envs/project/lib/site-packages/stable_baselines3/common/off_policy_algorithm.py?line=209'>210</a>\u001b[0m     )\n\u001b[0;32m    <a href='file:///~/miniconda3/envs/project/lib/site-packages/stable_baselines3/common/off_policy_algorithm.py?line=211'>212</a>\u001b[0m \u001b[39mif\u001b[39;00m \u001b[39mself\u001b[39m\u001b[39m.\u001b[39mreplay_buffer \u001b[39mis\u001b[39;00m \u001b[39mNone\u001b[39;00m:\n\u001b[1;32m--> <a href='file:///~/miniconda3/envs/project/lib/site-packages/stable_baselines3/common/off_policy_algorithm.py?line=212'>213</a>\u001b[0m     \u001b[39mself\u001b[39m\u001b[39m.\u001b[39mreplay_buffer \u001b[39m=\u001b[39m \u001b[39mself\u001b[39m\u001b[39m.\u001b[39mreplay_buffer_class(\n\u001b[0;32m    <a href='file:///~/miniconda3/envs/project/lib/site-packages/stable_baselines3/common/off_policy_algorithm.py?line=213'>214</a>\u001b[0m         \u001b[39mself\u001b[39m\u001b[39m.\u001b[39mbuffer_size,\n\u001b[0;32m    <a href='file:///~/miniconda3/envs/project/lib/site-packages/stable_baselines3/common/off_policy_algorithm.py?line=214'>215</a>\u001b[0m         \u001b[39mself\u001b[39m\u001b[39m.\u001b[39mobservation_space,\n\u001b[0;32m    <a href='file:///~/miniconda3/envs/project/lib/site-packages/stable_baselines3/common/off_policy_algorithm.py?line=215'>216</a>\u001b[0m         \u001b[39mself\u001b[39m\u001b[39m.\u001b[39maction_space,\n\u001b[0;32m    <a href='file:///~/miniconda3/envs/project/lib/site-packages/stable_baselines3/common/off_policy_algorithm.py?line=216'>217</a>\u001b[0m         device\u001b[39m=\u001b[39m\u001b[39mself\u001b[39m\u001b[39m.\u001b[39mdevice,\n\u001b[0;32m    <a href='file:///~/miniconda3/envs/project/lib/site-packages/stable_baselines3/common/off_policy_algorithm.py?line=217'>218</a>\u001b[0m         n_envs\u001b[39m=\u001b[39m\u001b[39mself\u001b[39m\u001b[39m.\u001b[39mn_envs,\n\u001b[0;32m    <a href='file:///~/miniconda3/envs/project/lib/site-packages/stable_baselines3/common/off_policy_algorithm.py?line=218'>219</a>\u001b[0m         optimize_memory_usage\u001b[39m=\u001b[39m\u001b[39mself\u001b[39m\u001b[39m.\u001b[39moptimize_memory_usage,\n\u001b[0;32m    <a href='file:///~/miniconda3/envs/project/lib/site-packages/stable_baselines3/common/off_policy_algorithm.py?line=219'>220</a>\u001b[0m         \u001b[39m*\u001b[39m\u001b[39m*\u001b[39m\u001b[39mself\u001b[39m\u001b[39m.\u001b[39mreplay_buffer_kwargs,\n\u001b[0;32m    <a href='file:///~/miniconda3/envs/project/lib/site-packages/stable_baselines3/common/off_policy_algorithm.py?line=220'>221</a>\u001b[0m     )\n\u001b[0;32m    <a href='file:///~/miniconda3/envs/project/lib/site-packages/stable_baselines3/common/off_policy_algorithm.py?line=222'>223</a>\u001b[0m \u001b[39mself\u001b[39m\u001b[39m.\u001b[39mpolicy \u001b[39m=\u001b[39m \u001b[39mself\u001b[39m\u001b[39m.\u001b[39mpolicy_class(  \u001b[39m# pytype:disable=not-instantiable\u001b[39;00m\n\u001b[0;32m    <a href='file:///~/miniconda3/envs/project/lib/site-packages/stable_baselines3/common/off_policy_algorithm.py?line=223'>224</a>\u001b[0m     \u001b[39mself\u001b[39m\u001b[39m.\u001b[39mobservation_space,\n\u001b[0;32m    <a href='file:///~/miniconda3/envs/project/lib/site-packages/stable_baselines3/common/off_policy_algorithm.py?line=224'>225</a>\u001b[0m     \u001b[39mself\u001b[39m\u001b[39m.\u001b[39maction_space,\n\u001b[0;32m    <a href='file:///~/miniconda3/envs/project/lib/site-packages/stable_baselines3/common/off_policy_algorithm.py?line=225'>226</a>\u001b[0m     \u001b[39mself\u001b[39m\u001b[39m.\u001b[39mlr_schedule,\n\u001b[0;32m    <a href='file:///~/miniconda3/envs/project/lib/site-packages/stable_baselines3/common/off_policy_algorithm.py?line=226'>227</a>\u001b[0m     \u001b[39m*\u001b[39m\u001b[39m*\u001b[39m\u001b[39mself\u001b[39m\u001b[39m.\u001b[39mpolicy_kwargs,  \u001b[39m# pytype:disable=not-instantiable\u001b[39;00m\n\u001b[0;32m    <a href='file:///~/miniconda3/envs/project/lib/site-packages/stable_baselines3/common/off_policy_algorithm.py?line=227'>228</a>\u001b[0m )\n\u001b[0;32m    <a href='file:///~/miniconda3/envs/project/lib/site-packages/stable_baselines3/common/off_policy_algorithm.py?line=228'>229</a>\u001b[0m \u001b[39mself\u001b[39m\u001b[39m.\u001b[39mpolicy \u001b[39m=\u001b[39m \u001b[39mself\u001b[39m\u001b[39m.\u001b[39mpolicy\u001b[39m.\u001b[39mto(\u001b[39mself\u001b[39m\u001b[39m.\u001b[39mdevice)\n",
      "File \u001b[1;32m~\\miniconda3\\envs\\project\\lib\\site-packages\\stable_baselines3\\common\\buffers.py:199\u001b[0m, in \u001b[0;36mReplayBuffer.__init__\u001b[1;34m(self, buffer_size, observation_space, action_space, device, n_envs, optimize_memory_usage, handle_timeout_termination)\u001b[0m\n\u001b[0;32m    <a href='file:///~/miniconda3/envs/project/lib/site-packages/stable_baselines3/common/buffers.py?line=196'>197</a>\u001b[0m     \u001b[39mself\u001b[39m\u001b[39m.\u001b[39mnext_observations \u001b[39m=\u001b[39m \u001b[39mNone\u001b[39;00m\n\u001b[0;32m    <a href='file:///~/miniconda3/envs/project/lib/site-packages/stable_baselines3/common/buffers.py?line=197'>198</a>\u001b[0m \u001b[39melse\u001b[39;00m:\n\u001b[1;32m--> <a href='file:///~/miniconda3/envs/project/lib/site-packages/stable_baselines3/common/buffers.py?line=198'>199</a>\u001b[0m     \u001b[39mself\u001b[39m\u001b[39m.\u001b[39mnext_observations \u001b[39m=\u001b[39m np\u001b[39m.\u001b[39;49mzeros((\u001b[39mself\u001b[39;49m\u001b[39m.\u001b[39;49mbuffer_size, \u001b[39mself\u001b[39;49m\u001b[39m.\u001b[39;49mn_envs) \u001b[39m+\u001b[39;49m \u001b[39mself\u001b[39;49m\u001b[39m.\u001b[39;49mobs_shape, dtype\u001b[39m=\u001b[39;49mobservation_space\u001b[39m.\u001b[39;49mdtype)\n\u001b[0;32m    <a href='file:///~/miniconda3/envs/project/lib/site-packages/stable_baselines3/common/buffers.py?line=200'>201</a>\u001b[0m \u001b[39mself\u001b[39m\u001b[39m.\u001b[39mactions \u001b[39m=\u001b[39m np\u001b[39m.\u001b[39mzeros((\u001b[39mself\u001b[39m\u001b[39m.\u001b[39mbuffer_size, \u001b[39mself\u001b[39m\u001b[39m.\u001b[39mn_envs, \u001b[39mself\u001b[39m\u001b[39m.\u001b[39maction_dim), dtype\u001b[39m=\u001b[39maction_space\u001b[39m.\u001b[39mdtype)\n\u001b[0;32m    <a href='file:///~/miniconda3/envs/project/lib/site-packages/stable_baselines3/common/buffers.py?line=202'>203</a>\u001b[0m \u001b[39mself\u001b[39m\u001b[39m.\u001b[39mrewards \u001b[39m=\u001b[39m np\u001b[39m.\u001b[39mzeros((\u001b[39mself\u001b[39m\u001b[39m.\u001b[39mbuffer_size, \u001b[39mself\u001b[39m\u001b[39m.\u001b[39mn_envs), dtype\u001b[39m=\u001b[39mnp\u001b[39m.\u001b[39mfloat32)\n",
      "\u001b[1;31mMemoryError\u001b[0m: Unable to allocate 4.58 GiB for an array with shape (25000, 1, 3, 256, 256) and data type uint8"
     ]
    }
   ],
   "source": [
    "# test\n",
    "\n",
    "model = DQN.load(\"DQNEveon6\", env=eveon, device='cpu')\n",
    "\n",
    "obs = eveon.reset()\n",
    "while True :\n",
    "    # clear_output(wait=True)\n",
    "    action, states_ = model.predict(obs, deterministic=True)\n",
    "    # action = 6\n",
    "    obs, rewards, dones, info = eveon.step(action)\n",
    "    # plt.imshow(obs)\n",
    "    # plt.show()\n",
    "    print(action)\n",
    "    if dones == True:\n",
    "        print(eveon.reward)\n",
    "\n",
    "        # with open('info.json', 'w') as outfile:\n",
    "        #     json.dump(info, outfile)\n",
    "\n",
    "        eveon.reset()\n",
    "\n",
    "    eveon.render()"
   ]
  },
  {
   "cell_type": "code",
   "execution_count": null,
   "metadata": {},
   "outputs": [],
   "source": []
  }
 ],
 "metadata": {
  "interpreter": {
   "hash": "6e1680fa3f035ba33798eeb42b0c1edda6a758b70597993f042faeae31b18ae3"
  },
  "kernelspec": {
   "display_name": "Python 3.9.7 ('4thYearprojectEnv')",
   "language": "python",
   "name": "python3"
  },
  "language_info": {
   "codemirror_mode": {
    "name": "ipython",
    "version": 3
   },
   "file_extension": ".py",
   "mimetype": "text/x-python",
   "name": "python",
   "nbconvert_exporter": "python",
   "pygments_lexer": "ipython3",
   "version": "3.9.7"
  },
  "orig_nbformat": 4
 },
 "nbformat": 4,
 "nbformat_minor": 2
}
