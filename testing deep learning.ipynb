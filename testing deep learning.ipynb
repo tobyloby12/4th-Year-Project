{
 "cells": [
  {
   "cell_type": "code",
   "execution_count": 1,
   "metadata": {},
   "outputs": [
    {
     "name": "stdout",
     "output_type": "stream",
     "text": [
      "pygame 2.0.3 (SDL 2.0.16, Python 3.9.7)\n",
      "Hello from the pygame community. https://www.pygame.org/contribute.html\n"
     ]
    }
   ],
   "source": [
    "from time import sleep\n",
    "from IPython.display import clear_output, display\n",
    "import matplotlib.pyplot as plt\n",
    "import importlib\n",
    "\n",
    "import optical_network_game.game_gym\n",
    "importlib.reload(optical_network_game.game_gym)\n",
    "from optical_network_game.game_gym import *\n",
    "\n",
    "from optical_network_game.requests import *\n",
    "from optical_network_game.topology_generation import *\n",
    "\n",
    "from stable_baselines3.common.env_checker import check_env\n",
    "from stable_baselines3 import DQN\n",
    "from stable_baselines3.common import results_plotter\n",
    "from stable_baselines3.common.monitor import Monitor\n",
    "from stable_baselines3.common.results_plotter import load_results, ts2xy, plot_results\n",
    "from stable_baselines3.common.callbacks import BaseCallback"
   ]
  },
  {
   "cell_type": "code",
   "execution_count": 2,
   "metadata": {},
   "outputs": [],
   "source": [
    "class SaveOnBestTrainingRewardCallback(BaseCallback):\n",
    "    \"\"\"\n",
    "    Callback for saving a model (the check is done every ``check_freq`` steps)\n",
    "    based on the training reward (in practice, we recommend using ``EvalCallback``).\n",
    "\n",
    "    :param check_freq:\n",
    "    :param log_dir: Path to the folder where the model will be saved.\n",
    "      It must contains the file created by the ``Monitor`` wrapper.\n",
    "    :param verbose: Verbosity level.\n",
    "    \"\"\"\n",
    "    def __init__(self, check_freq: int, log_dir: str, verbose: int = 1):\n",
    "        super(SaveOnBestTrainingRewardCallback, self).__init__(verbose)\n",
    "        self.check_freq = check_freq\n",
    "        self.log_dir = log_dir\n",
    "        self.save_path = None\n",
    "        self.best_mean_reward = -np.inf\n",
    "\n",
    "    def _init_callback(self) -> None:\n",
    "        # Create folder if needed\n",
    "        if self.save_path is not None:\n",
    "            os.makedirs(self.save_path, exist_ok=True)\n",
    "\n",
    "    def _on_step(self) -> bool:\n",
    "        if self.n_calls % self.check_freq == 0:\n",
    "\n",
    "          # Retrieve training reward\n",
    "          x, y = ts2xy(load_results(self.log_dir), 'timesteps')\n",
    "          if len(x) > 0:\n",
    "              # Mean training reward over the last 100 episodes\n",
    "              mean_reward = np.mean(y[-100:])\n",
    "              if self.verbose > 0:\n",
    "                print(f\"Num timesteps: {self.num_timesteps}\")\n",
    "                print(f\"Best mean reward: {self.best_mean_reward:.2f} - Last mean reward per episode: {mean_reward:.2f}\")\n",
    "\n",
    "              # # New best model, you could save the agent here\n",
    "              # if mean_reward > self.best_mean_reward:\n",
    "              #     self.best_mean_reward = mean_reward\n",
    "              #     # Example for saving best model\n",
    "              #     if self.verbose > 0:\n",
    "              #       print(f\"Saving new best model to {self.save_path}\")\n",
    "              #     self.model.save(self.save_path)\n",
    "\n",
    "        return True"
   ]
  },
  {
   "cell_type": "code",
   "execution_count": 3,
   "metadata": {},
   "outputs": [],
   "source": [
    "class TensorboardCallback(BaseCallback):\n",
    "    \"\"\"\n",
    "    Custom callback for plotting additional values in tensorboard.\n",
    "    \"\"\"\n",
    "\n",
    "    def __init__(self, verbose=0):\n",
    "        super(TensorboardCallback, self).__init__(verbose)\n",
    "    \n",
    "    def _on_step(self) -> bool:\n",
    "        block_ep = self.locals[\"infos\"][0].get('bp')\n",
    "        avg_path_len = self.locals[\"infos\"][0].get('avg_length')\n",
    "        blocked_continuous = self.locals[\"infos\"][0].get('blocked_continuous')\n",
    "        blocked_contiguous = self.locals[\"infos\"][0].get('blocked_contiguous')\n",
    "        self.logger.record('blocking_ratio', block_ep)\n",
    "        self.logger.record('average_route_length', avg_path_len)\n",
    "        self.logger.record('blocked_continuous', blocked_continuous)\n",
    "        self.logger.record('blocked_contiguous', blocked_contiguous)\n",
    "        return True\n",
    "\n",
    "        "
   ]
  },
  {
   "cell_type": "code",
   "execution_count": 4,
   "metadata": {},
   "outputs": [],
   "source": [
    "import os\n",
    "# Create log dir\n",
    "log_dir = os.path.join(os.getcwd(), \"tmp/\")\n",
    "os.makedirs(log_dir, exist_ok=True)"
   ]
  },
  {
   "cell_type": "code",
   "execution_count": 6,
   "metadata": {},
   "outputs": [
    {
     "name": "stdout",
     "output_type": "stream",
     "text": [
      "VSNL Topology Selected\n",
      "Traffic load is: 10.0\n",
      "Using cuda device\n",
      "Wrapping the env in a DummyVecEnv.\n"
     ]
    }
   ],
   "source": [
    "# Create the callback: check every 1000 steps\n",
    "callback = SaveOnBestTrainingRewardCallback(check_freq=200000, log_dir=log_dir)\n",
    "tensor_callback = TensorboardCallback()\n",
    "\n",
    "# create model\n",
    "\n",
    "nodeList, linkList = createPresetTopology(\"VSNL\", 5)\n",
    "requestList = generateRequests(nodeList, 30, 1, 10)\n",
    "\n",
    "user = User()\n",
    "env = game_gym(nodeList, linkList, requestList, user, dynamic=False)\n",
    "eveon = Monitor(env, log_dir)\n",
    "\n",
    "# check_env(eveon, warn=True)\n",
    "model = DQN('MlpPolicy', eveon, verbose=1, buffer_size=100000, device='cuda', \n",
    "learning_starts=50000, exploration_fraction=0.5, learning_rate=0.0001,\n",
    "gamma=0.8, tensorboard_log='./dqn_tensorboard/')\n",
    "\n",
    "# train\n",
    "model_name = \"DQNEveon\"\n",
    "# model.learn(total_timesteps=2000000, callback=[callback, tensor_callback])\n",
    "# model.save(model_name)\n",
    "\n",
    "# tensorboard --logdir ./dqn_tensorboard/\n"
   ]
  },
  {
   "cell_type": "code",
   "execution_count": null,
   "metadata": {},
   "outputs": [],
   "source": [
    "# Plot rewards\n",
    "# plot_results([log_dir], 500000, results_plotter.X_TIMESTEPS, \"DQN EON\")\n",
    "# plt.show()"
   ]
  },
  {
   "cell_type": "code",
   "execution_count": 5,
   "metadata": {},
   "outputs": [
    {
     "name": "stdout",
     "output_type": "stream",
     "text": [
      "VSNL Topology Selected\n",
      "Traffic load is: 10.0\n",
      "Stop hitting yourself\n",
      "Stop hitting yourself\n",
      "Stop hitting yourself\n",
      "Stop hitting yourself\n",
      "Stop hitting yourself\n",
      "Stop hitting yourself\n",
      "Stop hitting yourself\n"
     ]
    },
    {
     "ename": "SystemExit",
     "evalue": "",
     "output_type": "error",
     "traceback": [
      "An exception has occurred, use %tb to see the full traceback.\n",
      "\u001b[1;31mSystemExit\u001b[0m\n"
     ]
    }
   ],
   "source": [
    "# test\n",
    "#model = DQN.load(\"DQN_VSNL_TL_10.zip\", device='cuda')\n",
    "\n",
    "# create env\n",
    " \n",
    "nodeList, linkList = createPresetTopology(\"VSNL\", 5)\n",
    "requestList = generateRequests(nodeList, numberOfRequests=20, req_interval=2, hold_time=20, time_limit=3)\n",
    "\n",
    "user = User()\n",
    "env = game_gym(nodeList, linkList, requestList, user, dynamic=False)\n",
    "\n",
    "obs = env.reset()\n",
    "while True :\n",
    "    #action, states_ = model.predict(obs, deterministic=True )\n",
    "    action = 0\n",
    "    obs, rewards, dones, info = env.step(action)\n",
    "    # plt.imshow(obs)\n",
    "    # plt.show()\n",
    "    #print(action)\n",
    "    if dones == True:\n",
    "        # print(env.reward)\n",
    "\n",
    "        # with open('info.json', 'w') as outfile:\n",
    "        #     json.dump(info, outfile)\n",
    "\n",
    "        print(info)\n",
    "\n",
    "        env.reset()\n",
    "\n",
    "    env.render()"
   ]
  },
  {
   "cell_type": "code",
   "execution_count": null,
   "metadata": {},
   "outputs": [],
   "source": []
  }
 ],
 "metadata": {
  "interpreter": {
   "hash": "6e1680fa3f035ba33798eeb42b0c1edda6a758b70597993f042faeae31b18ae3"
  },
  "kernelspec": {
   "display_name": "Python 3.9.7 ('4thYearprojectEnv')",
   "language": "python",
   "name": "python3"
  },
  "language_info": {
   "codemirror_mode": {
    "name": "ipython",
    "version": 3
   },
   "file_extension": ".py",
   "mimetype": "text/x-python",
   "name": "python",
   "nbconvert_exporter": "python",
   "pygments_lexer": "ipython3",
   "version": "3.9.7"
  },
  "orig_nbformat": 4
 },
 "nbformat": 4,
 "nbformat_minor": 2
}
