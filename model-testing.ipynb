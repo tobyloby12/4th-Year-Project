{
 "cells": [
  {
   "cell_type": "code",
   "execution_count": 1,
   "metadata": {},
   "outputs": [
    {
     "name": "stdout",
     "output_type": "stream",
     "text": [
      "pygame 2.0.3 (SDL 2.0.16, Python 3.9.7)\n",
      "Hello from the pygame community. https://www.pygame.org/contribute.html\n"
     ]
    }
   ],
   "source": [
    "import gym\n",
    "from time import sleep\n",
    "from IPython.display import clear_output, display\n",
    "import matplotlib.pyplot as plt\n",
    "import importlib\n",
    "from stable_baselines3.common.env_checker import check_env\n",
    "\n",
    "import optical_network_game.game_gym\n",
    "importlib.reload(optical_network_game.game_gym)\n",
    "from optical_network_game.game_gym import *\n",
    "\n",
    "from optical_network_game.requests import *\n",
    "from optical_network_game.topology_generation import *\n",
    "\n",
    "import optical_network_game.heuristic\n",
    "importlib.reload(optical_network_game.heuristic)\n",
    "from optical_network_game.heuristic import *\n",
    "\n",
    "from stable_baselines3 import DQN\n",
    "import pandas as pd"
   ]
  },
  {
   "cell_type": "markdown",
   "metadata": {},
   "source": [
    "### Loading RL Model to use"
   ]
  },
  {
   "cell_type": "code",
   "execution_count": null,
   "metadata": {},
   "outputs": [],
   "source": [
    "#Insert model_name here based on file name\n",
    "#model_name =\n",
    "model = DQN.load(model_name, env=env, device='cpu')"
   ]
  },
  {
   "cell_type": "code",
   "execution_count": 2,
   "metadata": {},
   "outputs": [],
   "source": [
    "#Parameters for results collection\n",
    "#Holdtime = 10 to 40 (For a traffic load of 5 to 20)\n",
    "#Number of connection requests = 20\n",
    "num_req = 20\n",
    "#request interval = 2 seconds\n",
    "req_int = 2\n",
    "#time limit for each connection request = 10 seconds\n",
    "time_limit = 10\n",
    "#bandwidth per link = 5\n",
    "link_BW = 5"
   ]
  },
  {
   "cell_type": "markdown",
   "metadata": {},
   "source": [
    "### Obtaining Results<br/>Heuristic Algorithm"
   ]
  },
  {
   "cell_type": "code",
   "execution_count": null,
   "metadata": {},
   "outputs": [],
   "source": [
    "#setting up the VSNL topology\n",
    "nodeList, linkList = createPresetTopology(\"VSNL\", num_slots=link_BW)\n",
    "\n",
    "#Creating list to store results\n",
    "results_heuristic = []\n",
    "\n",
    "#Outer for loop to set hold time from 10 to 40 with increments of 2 to allow for collection of traffic load from 5 to 20 with step of 1\n",
    "for holdtime in range(10,40,2):\n",
    "    \n",
    "    #number of episodes flag for the inner while loop\n",
    "    num_episodes = 0\n",
    "\n",
    "    results_list = {}\n",
    "\n",
    "    #generating request lists and game environment\n",
    "    requestList = generateRequests(nodeList, numberOfRequests=num_req, req_interval=req_int, hold_time=holdtime, time_limit=time_limit)\n",
    "    user = User()\n",
    "    env = game_gym(nodeList, linkList, requestList, user, dynamic=True)\n",
    "    eveon = env\n",
    "    check_env(env)\n",
    "    heuristic = Heuristic(linkList)\n",
    "    obs = env.reset()\n",
    "    \n",
    "    #for each traffic load setting the game runs for 30 episodes\n",
    "    while num_episodes < 30:\n",
    "\n",
    "        action = heuristic.next_action(obs)\n",
    "        obs, rewards, dones, info = env.step(action)\n",
    "\n",
    "        if dones == True:\n",
    "            print(info)\n",
    "\n",
    "            results_list = info\n",
    "            results_list['traffic_load'] = holdtime/req_int\n",
    "            \n",
    "            #appending the final performance results into the results list for further processing\n",
    "            results_heuristic.append(info)\n",
    "            env.reset()\n",
    "            heuristic = Heuristic(linkList)\n",
    "            num_episodes += 1\n",
    "            #debug print\n",
    "            #print(\"Episode: \" + str(num_episodes))\n",
    "\n",
    "        env.render()"
   ]
  },
  {
   "cell_type": "markdown",
   "metadata": {},
   "source": [
    "### RL Model Results"
   ]
  },
  {
   "cell_type": "code",
   "execution_count": null,
   "metadata": {},
   "outputs": [],
   "source": [
    "#setting up the VSNL topology\n",
    "nodeList, linkList = createPresetTopology(\"VSNL\", num_slots=link_BW)\n",
    "\n",
    "results_RL = []\n",
    "\n",
    "#Outer for loop to set hold time from 10 to 40 with increments of 2 to allow for collection of traffic load from 5 to 20 with step of 1\n",
    "for holdtime in range(10,40,2):\n",
    "    \n",
    "    #number of episodes flag for the inner while loop\n",
    "    num_episodes = 0\n",
    "\n",
    "    results_list = {}\n",
    "    \n",
    "    #generating request lists and game environment\n",
    "    requestList = generateRequests(nodeList, numberOfRequests=num_req, req_interval=req_int, hold_time=holdtime, time_limit=time_limit)\n",
    "    user = User()\n",
    "    env = game_gym(nodeList, linkList, requestList, user, dynamic=True)\n",
    "    eveon = env\n",
    "    check_env(env)\n",
    "    heuristic = Heuristic(linkList)\n",
    "    obs = env.reset()\n",
    "    \n",
    "    #for each traffic load setting the game runs for 30 episodes\n",
    "    while num_episodes < 30:\n",
    "\n",
    "        action, states_ = model.predict(obs, deterministic=True )\n",
    "        obs, rewards, dones, info = env.step(action)\n",
    "\n",
    "        if dones == True:\n",
    "            print(info)\n",
    "\n",
    "            results_list = info\n",
    "            results_list['traffic_load'] = holdtime/req_int\n",
    "            \n",
    "            #appending the final performance results into the results list for further processing\n",
    "            results_RL.append(info)\n",
    "            env.reset()\n",
    "            heuristic = Heuristic(linkList)\n",
    "            num_episodes += 1\n",
    "            #debug print\n",
    "            print(\"Episode: \" + str(num_episodes))\n",
    "\n",
    "        env.render()"
   ]
  },
  {
   "cell_type": "code",
   "execution_count": 4,
   "metadata": {},
   "outputs": [
    {
     "data": {
      "text/html": [
       "<div>\n",
       "<style scoped>\n",
       "    .dataframe tbody tr th:only-of-type {\n",
       "        vertical-align: middle;\n",
       "    }\n",
       "\n",
       "    .dataframe tbody tr th {\n",
       "        vertical-align: top;\n",
       "    }\n",
       "\n",
       "    .dataframe thead th {\n",
       "        text-align: right;\n",
       "    }\n",
       "</style>\n",
       "<table border=\"1\" class=\"dataframe\">\n",
       "  <thead>\n",
       "    <tr style=\"text-align: right;\">\n",
       "      <th></th>\n",
       "      <th>bp</th>\n",
       "      <th>avg_length</th>\n",
       "      <th>blocked_continuous</th>\n",
       "      <th>blocked_contiguous</th>\n",
       "      <th>traffic_load</th>\n",
       "    </tr>\n",
       "  </thead>\n",
       "  <tbody>\n",
       "    <tr>\n",
       "      <th>0</th>\n",
       "      <td>0.0</td>\n",
       "      <td>2.9</td>\n",
       "      <td>0</td>\n",
       "      <td>0</td>\n",
       "      <td>5.0</td>\n",
       "    </tr>\n",
       "    <tr>\n",
       "      <th>1</th>\n",
       "      <td>0.0</td>\n",
       "      <td>2.9</td>\n",
       "      <td>0</td>\n",
       "      <td>0</td>\n",
       "      <td>7.5</td>\n",
       "    </tr>\n",
       "    <tr>\n",
       "      <th>2</th>\n",
       "      <td>0.0</td>\n",
       "      <td>2.9</td>\n",
       "      <td>0</td>\n",
       "      <td>0</td>\n",
       "      <td>10.0</td>\n",
       "    </tr>\n",
       "    <tr>\n",
       "      <th>3</th>\n",
       "      <td>0.0</td>\n",
       "      <td>2.8</td>\n",
       "      <td>0</td>\n",
       "      <td>0</td>\n",
       "      <td>12.5</td>\n",
       "    </tr>\n",
       "  </tbody>\n",
       "</table>\n",
       "</div>"
      ],
      "text/plain": [
       "    bp  avg_length  blocked_continuous  blocked_contiguous  traffic_load\n",
       "0  0.0         2.9                   0                   0           5.0\n",
       "1  0.0         2.9                   0                   0           7.5\n",
       "2  0.0         2.9                   0                   0          10.0\n",
       "3  0.0         2.8                   0                   0          12.5"
      ]
     },
     "execution_count": 4,
     "metadata": {},
     "output_type": "execute_result"
    }
   ],
   "source": [
    "#after for loop is completed, save the results list as a csv file\n",
    "df_heuristic = pd.DataFrame(results_heuristic)\n",
    "df_heuristic\n"
   ]
  },
  {
   "cell_type": "code",
   "execution_count": null,
   "metadata": {},
   "outputs": [],
   "source": [
    "# saving the dataframe \n",
    "#INSERT PROPER RESULTS NAME HERE\n",
    "df_heuristic.to_csv('results_heuristic.csv')"
   ]
  },
  {
   "cell_type": "code",
   "execution_count": null,
   "metadata": {},
   "outputs": [],
   "source": [
    "#after for loop is completed, save the results list as a csv file\n",
    "df_RL = pd.DataFrame(results_RL)\n",
    "# saving the dataframe \n",
    "#INSERT PROPER RESULTS NAME HERE\n",
    "df_RL.to_csv('results_RL.csv')"
   ]
  }
 ],
 "metadata": {
  "interpreter": {
   "hash": "984d45af26060c7a3801e889afafe0650c00f7a914aa62aa55fbbb9b9994d455"
  },
  "kernelspec": {
   "display_name": "Python 3.9.7 ('RL_2')",
   "language": "python",
   "name": "python3"
  },
  "language_info": {
   "codemirror_mode": {
    "name": "ipython",
    "version": 3
   },
   "file_extension": ".py",
   "mimetype": "text/x-python",
   "name": "python",
   "nbconvert_exporter": "python",
   "pygments_lexer": "ipython3",
   "version": "3.9.7"
  },
  "orig_nbformat": 4
 },
 "nbformat": 4,
 "nbformat_minor": 2
}
